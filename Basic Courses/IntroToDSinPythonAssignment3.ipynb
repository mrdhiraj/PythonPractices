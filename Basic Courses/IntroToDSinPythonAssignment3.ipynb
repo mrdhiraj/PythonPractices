{
 "cells": [
  {
   "cell_type": "code",
   "execution_count": 113,
   "metadata": {},
   "outputs": [
    {
     "name": "stdout",
     "output_type": "stream",
     "text": [
      "162\n",
      "15\n"
     ]
    },
    {
     "data": {
      "text/plain": [
       "156"
      ]
     },
     "execution_count": 113,
     "metadata": {},
     "output_type": "execute_result"
    }
   ],
   "source": [
    "import pandas as pd\n",
    "import numpy as np\n",
    "energy = pd.read_excel('data/Energy Indicators.xls')\n",
    "energy = energy[16:243]\n",
    "energy = energy.drop(energy.columns[[0, 1]], axis=1)\n",
    "energy.rename(columns={'Environmental Indicators: Energy': 'Country','Unnamed: 3':'Energy Supply','Unnamed: 4':'Energy Supply per Capita','Unnamed: 5':'% Renewable'}, inplace=True)\n",
    "energy.replace('...', np.nan,inplace = True)\n",
    "energy['Energy Supply'] *= 1000000\n",
    "def remove_digit(data):\n",
    "    newData = ''.join([i for i in data if not i.isdigit()])\n",
    "    i = newData.find('(')\n",
    "    if i>-1: newData = newData[:i]\n",
    "    return newData.strip()\n",
    "energy['Country'] = energy['Country'].apply(remove_digit)\n",
    "di = {\"Republic of Korea\": \"South Korea\",\n",
    "\"United States of America\": \"United States\",\n",
    "\"United Kingdom of Great Britain and Northern Ireland\": \"United Kingdom\",\n",
    "\"China, Hong Kong Special Administrative Region\": \"Hong Kong\"}\n",
    "energy.replace({\"Country\": di},inplace = True)\n",
    "#energy\n",
    "\n",
    "\n",
    "# In[275]:\n",
    "\n",
    "GDP = pd.read_csv('data/world_bank.csv', skiprows=4)\n",
    "GDP.rename(columns={'Country Name': 'Country'}, inplace=True)\n",
    "di = {\"Korea, Rep.\": \"South Korea\", \n",
    "\"Iran, Islamic Rep.\": \"Iran\",\n",
    "\"Hong Kong SAR, China\": \"Hong Kong\"}\n",
    "GDP.replace({\"Country\": di},inplace = True)\n",
    "#GDP\n",
    "\n",
    "\n",
    "# In[113]:\n",
    "\n",
    "ScimEn = pd.read_excel('data/scimagojr-3.xlsx')\n",
    "df = pd.merge(pd.merge(energy, GDP, on='Country'), ScimEn, on='Country')\n",
    "print(len(df))\n",
    "# We only need 2006-2015 data\n",
    "df.set_index('Country',inplace=True)\n",
    "df = df[['Rank', 'Documents', 'Citable documents', 'Citations', 'Self-citations', 'Citations per document', 'H index', 'Energy Supply', 'Energy Supply per Capita', '% Renewable', '2006', '2007', '2008', '2009', '2010', '2011', '2012', '2013', '2014', '2015']]\n",
    "df = (df.loc[df['Rank'].isin([1,2,3,4,5,6,7,8,9,10,11,12,13,14,15])])\n",
    "df.sort_values(by='Rank',inplace=True)\n",
    "print(len(df))\n",
    "\n",
    "\n",
    "union = pd.merge(pd.merge(energy, GDP, on='Country', how='outer'), ScimEn, on='Country', how='outer')\n",
    "intersect = pd.merge(pd.merge(energy, GDP, on='Country'), ScimEn, on='Country')\n",
    "len(union)-len(intersect)\n"
   ]
  },
  {
   "cell_type": "code",
   "execution_count": null,
   "metadata": {},
   "outputs": [],
   "source": []
  }
 ],
 "metadata": {
  "kernelspec": {
   "display_name": "Python 3",
   "language": "python",
   "name": "python3"
  },
  "language_info": {
   "codemirror_mode": {
    "name": "ipython",
    "version": 3
   },
   "file_extension": ".py",
   "mimetype": "text/x-python",
   "name": "python",
   "nbconvert_exporter": "python",
   "pygments_lexer": "ipython3",
   "version": "3.6.4"
  }
 },
 "nbformat": 4,
 "nbformat_minor": 2
}
